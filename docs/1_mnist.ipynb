{
 "cells": [
  {
   "cell_type": "markdown",
   "metadata": {},
   "source": [
    "# Tutorial 1: Approximate MNIST\n",
    "This notebook will walk you through the steps required to train a simple CNN on the MNIST dataset while determining the robustness to additive Gaussian noise.\n",
    "\n",
    "`agnapprox` already comes with predefined implementations for an MNIST dataset loader as well as [LeNet5](https://en.wikipedia.org/wiki/LeNet) which we will use in this tutorial. The next tutorial will show you how to define your own architecture."
   ]
  },
  {
   "cell_type": "code",
   "execution_count": 1,
   "metadata": {},
   "outputs": [],
   "source": [
    "%load_ext autoreload\n",
    "%autoreload 2"
   ]
  },
  {
   "cell_type": "code",
   "execution_count": 2,
   "metadata": {},
   "outputs": [
    {
     "name": "stderr",
     "output_type": "stream",
     "text": [
      "No CUDA device detected. Running on CPU.\n"
     ]
    }
   ],
   "source": [
    "from agnapprox.nets import LeNet5\n",
    "from agnapprox.datamodules import MNIST"
   ]
  },
  {
   "cell_type": "markdown",
   "metadata": {},
   "source": [
    "We first set up the datamodule. Downloaded datasets are written to the path pointed to by the environment variable `AGNAPPROX_DATA_DIR` by default. If the variable is not set, the subdirectory `data` is created locally."
   ]
  },
  {
   "cell_type": "code",
   "execution_count": 3,
   "metadata": {},
   "outputs": [],
   "source": [
    "dm = MNIST(batch_size=128, num_workers=4)\n",
    "dm.prepare_data()\n",
    "dm.setup()"
   ]
  },
  {
   "cell_type": "markdown",
   "metadata": {},
   "source": [
    "Next, we define the model. We can simply instantiate the appropriate `agnapprox` wrapper without anything else."
   ]
  },
  {
   "cell_type": "code",
   "execution_count": 4,
   "metadata": {},
   "outputs": [],
   "source": [
    "model = LeNet5()"
   ]
  },
  {
   "cell_type": "markdown",
   "metadata": {},
   "source": [
    "## Model Training\n",
    "\n",
    "Every `agnapprox` network has four modes in which the network can be trained:\n",
    "1. **Baseline**: Train an FP32 baseline model without quantization, approximation, AGN, etc.\n",
    "2. **Quantization-aware Training**: Apply quantization during the forward pass. Also known as _quantization-aware training_\n",
    "3. **Gradient Search**: Add Gaussian noise to the output of each target operation. The amount of noise injected in each layer is passed to the optimizer and optimized together with the other network parameters.\n",
    "4. **Approximate Retraining**: Use Lookup tables of approximate multipliers to retrain the network in order to minimize the loss of accuracy when deploying approximate multipliers\n",
    "\n",
    "Normally, you would train a model in every mode in the order given above (but feel free to experiment with other setups!). `agnapprox` network instances provide training functions for each mode with some added functionality. The training functions are wrappers around `pytorch-lightning`'s `Trainer()` API and extra arguments can be passed to the `fit()` method if desired.\n",
    "\n",
    "We will start with a simple FP32 baseline model. The default number of epochs for each stage is defined in the network wrapper file, but it can be overridden by passing `epochs=` to the training function. Here, we will train for 8 epochs."
   ]
  },
  {
   "cell_type": "code",
   "execution_count": 5,
   "metadata": {},
   "outputs": [
    {
     "name": "stderr",
     "output_type": "stream",
     "text": [
      "GPU available: False, used: False\n",
      "TPU available: False, using: 0 TPU cores\n",
      "IPU available: False, using: 0 IPUs\n",
      "HPU available: False, using: 0 HPUs\n",
      "\n",
      "  | Name  | Type   | Params\n",
      "---------------------------------\n",
      "0 | model | LeNet5 | 61.9 K\n",
      "---------------------------------\n",
      "61.9 K    Trainable params\n",
      "0         Non-trainable params\n",
      "61.9 K    Total params\n",
      "0.248     Total estimated model params size (MB)\n"
     ]
    },
    {
     "data": {
      "application/vnd.jupyter.widget-view+json": {
       "model_id": "ec7f3da46f8b47349ce26a3e51c42f93",
       "version_major": 2,
       "version_minor": 0
      },
      "text/plain": [
       "Sanity Checking: 0it [00:00, ?it/s]"
      ]
     },
     "metadata": {},
     "output_type": "display_data"
    },
    {
     "data": {
      "application/vnd.jupyter.widget-view+json": {
       "model_id": "9dfd8bbf486d473296b22d23a0eb67a5",
       "version_major": 2,
       "version_minor": 0
      },
      "text/plain": [
       "Training: 0it [00:00, ?it/s]"
      ]
     },
     "metadata": {},
     "output_type": "display_data"
    },
    {
     "data": {
      "application/vnd.jupyter.widget-view+json": {
       "model_id": "236270aa808a4ac4a7a496821f668ad1",
       "version_major": 2,
       "version_minor": 0
      },
      "text/plain": [
       "Validation: 0it [00:00, ?it/s]"
      ]
     },
     "metadata": {},
     "output_type": "display_data"
    },
    {
     "name": "stderr",
     "output_type": "stream",
     "text": [
      "`Trainer.fit` stopped: `max_epochs=1` reached.\n"
     ]
    },
    {
     "data": {
      "application/vnd.jupyter.widget-view+json": {
       "model_id": "529307c145b346babecdd44fbc8a7b7b",
       "version_major": 2,
       "version_minor": 0
      },
      "text/plain": [
       "Testing: 0it [00:00, ?it/s]"
      ]
     },
     "metadata": {},
     "output_type": "display_data"
    },
    {
     "name": "stdout",
     "output_type": "stream",
     "text": [
      "────────────────────────────────────────────────────────────────────────────────────────────────────────────────────────\n",
      "       Test metric             DataLoader 0\n",
      "────────────────────────────────────────────────────────────────────────────────────────────────────────────────────────\n",
      "      test_acc_top1         0.9876999855041504\n",
      "        test_loss           0.04124484583735466\n",
      "────────────────────────────────────────────────────────────────────────────────────────────────────────────────────────\n"
     ]
    }
   ],
   "source": [
    "model.train_baseline(dm, test=True)"
   ]
  },
  {
   "cell_type": "markdown",
   "metadata": {},
   "source": [
    "Next, we optimze the model for 8-Bit quantization using the `train_quant` functions. If you are wondering where the training hyperparameters like optimizer, learning rate, learning rate schedule etc. are coming from: They are also pre-defined in the network's definition."
   ]
  },
  {
   "cell_type": "code",
   "execution_count": 6,
   "metadata": {},
   "outputs": [
    {
     "name": "stderr",
     "output_type": "stream",
     "text": [
      "GPU available: False, used: False\n",
      "TPU available: False, using: 0 TPU cores\n",
      "IPU available: False, using: 0 IPUs\n",
      "HPU available: False, using: 0 HPUs\n",
      "\n",
      "  | Name  | Type   | Params\n",
      "---------------------------------\n",
      "0 | model | LeNet5 | 61.9 K\n",
      "---------------------------------\n",
      "61.9 K    Trainable params\n",
      "0         Non-trainable params\n",
      "61.9 K    Total params\n",
      "0.248     Total estimated model params size (MB)\n"
     ]
    },
    {
     "data": {
      "application/vnd.jupyter.widget-view+json": {
       "model_id": "0db1a28caa77434c815f61ad48aa84d0",
       "version_major": 2,
       "version_minor": 0
      },
      "text/plain": [
       "Sanity Checking: 0it [00:00, ?it/s]"
      ]
     },
     "metadata": {},
     "output_type": "display_data"
    },
    {
     "data": {
      "application/vnd.jupyter.widget-view+json": {
       "model_id": "491884d5892244889d11bd8ddd9516a1",
       "version_major": 2,
       "version_minor": 0
      },
      "text/plain": [
       "Training: 0it [00:00, ?it/s]"
      ]
     },
     "metadata": {},
     "output_type": "display_data"
    },
    {
     "data": {
      "application/vnd.jupyter.widget-view+json": {
       "model_id": "d22552165fed49efa779de3899b5cb6b",
       "version_major": 2,
       "version_minor": 0
      },
      "text/plain": [
       "Validation: 0it [00:00, ?it/s]"
      ]
     },
     "metadata": {},
     "output_type": "display_data"
    },
    {
     "name": "stderr",
     "output_type": "stream",
     "text": [
      "`Trainer.fit` stopped: `max_epochs=1` reached.\n"
     ]
    }
   ],
   "source": [
    "model.train_quant(dm)"
   ]
  },
  {
   "cell_type": "markdown",
   "metadata": {},
   "source": [
    "## Robustness Optimization\n",
    "\n",
    "Now comes the exciting part: We train while optimizing the amoung of AGN per layer. By passing `verbose=True` we get a debug output with the intermediate results after every epoch."
   ]
  },
  {
   "cell_type": "code",
   "execution_count": 7,
   "metadata": {},
   "outputs": [
    {
     "name": "stderr",
     "output_type": "stream",
     "text": [
      "GPU available: False, used: False\n",
      "TPU available: False, using: 0 TPU cores\n",
      "IPU available: False, using: 0 IPUs\n",
      "HPU available: False, using: 0 HPUs\n",
      "\n",
      "  | Name  | Type   | Params\n",
      "---------------------------------\n",
      "0 | model | LeNet5 | 61.9 K\n",
      "---------------------------------\n",
      "61.9 K    Trainable params\n",
      "0         Non-trainable params\n",
      "61.9 K    Total params\n",
      "0.248     Total estimated model params size (MB)\n"
     ]
    },
    {
     "data": {
      "application/vnd.jupyter.widget-view+json": {
       "model_id": "46537ecba1be420fbbf20ddb69434bfb",
       "version_major": 2,
       "version_minor": 0
      },
      "text/plain": [
       "Sanity Checking: 0it [00:00, ?it/s]"
      ]
     },
     "metadata": {},
     "output_type": "display_data"
    },
    {
     "data": {
      "application/vnd.jupyter.widget-view+json": {
       "model_id": "af7b72a1cf5545ed8eb37e20576db520",
       "version_major": 2,
       "version_minor": 0
      },
      "text/plain": [
       "Training: 0it [00:00, ?it/s]"
      ]
     },
     "metadata": {},
     "output_type": "display_data"
    },
    {
     "data": {
      "application/vnd.jupyter.widget-view+json": {
       "model_id": "655fbc801be3483d897919847f9befd8",
       "version_major": 2,
       "version_minor": 0
      },
      "text/plain": [
       "Validation: 0it [00:00, ?it/s]"
      ]
     },
     "metadata": {},
     "output_type": "display_data"
    },
    {
     "name": "stdout",
     "output_type": "stream",
     "text": [
      "INFO:agnapprox.nets.approxnet:Epoch: 0\n",
      "INFO:agnapprox.nets.approxnet:Layer: model.conv1.0 | sigma_l: +0.151\n",
      "INFO:agnapprox.nets.approxnet:Layer: model.conv2.0 | sigma_l: +0.306\n",
      "INFO:agnapprox.nets.approxnet:Layer: model.linear1 | sigma_l: +0.058\n",
      "INFO:agnapprox.nets.approxnet:Layer: model.linear2 | sigma_l: +0.027\n",
      "INFO:agnapprox.nets.approxnet:Layer: model.linear3 | sigma_l: +0.009\n"
     ]
    },
    {
     "name": "stderr",
     "output_type": "stream",
     "text": [
      "`Trainer.fit` stopped: `max_epochs=1` reached.\n"
     ]
    }
   ],
   "source": [
    "# Set appropriate log level and send to stdout so that logging output shows up in Jupyter\n",
    "import logging\n",
    "import sys\n",
    "logging.basicConfig(level=logging.INFO, stream=sys.stdout)\n",
    "\n",
    "model.train_gradient(dm, lmbd=0.2, initial_noise=0.025)\n"
   ]
  },
  {
   "cell_type": "markdown",
   "metadata": {},
   "source": [
    "## Multiplier Assignment\n",
    "Finally, we can use this information to assign matching multipliers to each layer.\n",
    "This is done through a helper function that gets passed a list of approximate multipliers, from which the best-matching one is picked for each layer.\n",
    "\n",
    "Each multiplier in the list should be a dataclass instance that looks like this:\n",
    "```python\n",
    "@dataclass\n",
    "class ApproximateMultiplier\n",
    "    name: str\n",
    "    performance_metric: float\n",
    "    error_map: np.ndarray\n",
    "```\n",
    "For the parameter `performance_metric`, you can choose any property that you want to **minimize** across the your neural network. Normally, this would likely be things like power consumption, area usage, etc.\n",
    "\n",
    "### Error Map Construction\n",
    "The `error_map` is a numpy array of shape 256x256, where each entry corresponds to the difference between the accurate and the approximate result for `int8` operands:\n",
    "```python\n",
    "error_map = np.empty([256,256])\n",
    "\n",
    "for x in range(-128, 128):\n",
    "    for y in range(-128, 128):\n",
    "        error_map[x+128][y+128] = x * y - approx_mult(x, y)\n",
    "```\n",
    "Where `approx_mult` is some approximate multiplication implementation."
   ]
  },
  {
   "cell_type": "code",
   "execution_count": 8,
   "metadata": {},
   "outputs": [
    {
     "name": "stderr",
     "output_type": "stream",
     "text": [
      "GPU available: False, used: False\n",
      "TPU available: False, using: 0 TPU cores\n",
      "IPU available: False, using: 0 IPUs\n",
      "HPU available: False, using: 0 HPUs\n"
     ]
    },
    {
     "name": "stdout",
     "output_type": "stream",
     "text": [
      "mul8s_1KV6, mul8s_1KV8, mul8s_1KV9, mul8s_1KVA, mul8s_1KVM, mul8s_1KVP, mul8s_1KVQ, mul8s_1KX5, mul8s_1KXF, mul8s_1L12, mul8s_1L2J, mul8s_1L2L, mul8s_1L2N\n"
     ]
    }
   ],
   "source": [
    "# Import a few helpers and a provider of approximate multipliers\n",
    "from agnapprox.utils import select_multipliers, deploy_multipliers\n",
    "from agnapprox.libs.evoapprox import EvoApprox\n",
    "import pytorch_lightning as pl\n",
    "\n",
    "trainer = pl.Trainer()\n",
    "evo = EvoApprox()\n",
    "\n",
    "print(\", \".join([tm.name for tm in evo.search_space()]))"
   ]
  },
  {
   "cell_type": "code",
   "execution_count": 9,
   "metadata": {},
   "outputs": [
    {
     "data": {
      "application/vnd.jupyter.widget-view+json": {
       "model_id": "222bd01221a24d4d8608a0b7182f939e",
       "version_major": 2,
       "version_minor": 0
      },
      "text/plain": [
       "Validation: 0it [00:00, ?it/s]"
      ]
     },
     "metadata": {},
     "output_type": "display_data"
    },
    {
     "name": "stdout",
     "output_type": "stream",
     "text": [
      "INFO:agnapprox.utils.select_multipliers:Layer: model.conv1.0, Best Match: mul8s_1L2N, Performance: 0.126000, Relative Performance: 0.296471\n",
      "INFO:agnapprox.utils.select_multipliers:Layer: model.conv2.0, Best Match: mul8s_1L2N, Performance: 0.126000, Relative Performance: 0.296471\n",
      "INFO:agnapprox.utils.select_multipliers:Layer: model.linear1, Best Match: mul8s_1KXF, Performance: 0.237000, Relative Performance: 0.557647\n",
      "INFO:agnapprox.utils.select_multipliers:Layer: model.linear2, Best Match: mul8s_1KX5, Performance: 0.289000, Relative Performance: 0.680000\n",
      "INFO:agnapprox.utils.select_multipliers:Layer: model.linear3, Best Match: mul8s_1KVQ, Performance: 0.351000, Relative Performance: 0.825882\n"
     ]
    }
   ],
   "source": [
    "# Match multipliers to layers\n",
    "res = select_multipliers(\n",
    "    model, dm, evo.search_space(), trainer\n",
    ")\n",
    "# Deploy selected multipliers to each layer\n",
    "deploy_multipliers(model, res, evo)"
   ]
  },
  {
   "cell_type": "markdown",
   "metadata": {},
   "source": [
    "If we look at some data, we see that the layer with the most multiplications gets assigned the hardware instance with the lowest energy consumption, while the first and last layers remain relatively accurate."
   ]
  },
  {
   "cell_type": "code",
   "execution_count": 10,
   "metadata": {},
   "outputs": [
    {
     "data": {
      "image/png": "[encoded data removed]",
      "text/plain": [
       "<Figure size 400x600 with 2 Axes>"
      ]
     },
     "metadata": {},
     "output_type": "display_data"
    }
   ],
   "source": [
    "import matplotlib.pyplot as plt\n",
    "import numpy as np\n",
    "\n",
    "\n",
    "x = np.arange(len(res.layers))\n",
    "multiplier_performance = np.array([l.relative_energy_consumption(res.metric_max) for l in res.layers])\n",
    "opcounts = np.array([l.relative_opcount(res.opcount) for l in res.layers])\n",
    "labels = [l.name for l in res.layers]\n",
    "\n",
    "plt.figure(figsize=(4,6))\n",
    "plt.subplot(211)\n",
    "plt.bar(x, multiplier_performance)\n",
    "plt.xticks(x, labels, rotation=45)\n",
    "plt.ylabel('Relative Energy Consumption')\n",
    "plt.axhline(res.relative_energy_consumption, color='black')\n",
    "\n",
    "plt.subplot(212)\n",
    "plt.bar(x, opcounts, color='orange')\n",
    "plt.xticks(x, labels, rotation=45)\n",
    "plt.ylabel('Relative Opcount')\n",
    "plt.tight_layout()\n",
    "plt.show()"
   ]
  },
  {
   "cell_type": "markdown",
   "metadata": {},
   "source": [
    "## Approximate Retraining\n",
    "\n",
    "We have selected an approximate multiplier for each layer and deployed them. The last step is to retrain the network while simulating the selected approximate multipliers so that the network learns to compensate for the error."
   ]
  },
  {
   "cell_type": "code",
   "execution_count": 11,
   "metadata": {},
   "outputs": [
    {
     "name": "stderr",
     "output_type": "stream",
     "text": [
      "GPU available: False, used: False\n",
      "TPU available: False, using: 0 TPU cores\n",
      "IPU available: False, using: 0 IPUs\n",
      "HPU available: False, using: 0 HPUs\n",
      "\n",
      "  | Name  | Type   | Params\n",
      "---------------------------------\n",
      "0 | model | LeNet5 | 61.9 K\n",
      "---------------------------------\n",
      "61.9 K    Trainable params\n",
      "0         Non-trainable params\n",
      "61.9 K    Total params\n",
      "0.248     Total estimated model params size (MB)\n"
     ]
    },
    {
     "data": {
      "application/vnd.jupyter.widget-view+json": {
       "model_id": "594f40212d5c4cf2ab302a1aa3624b62",
       "version_major": 2,
       "version_minor": 0
      },
      "text/plain": [
       "Sanity Checking: 0it [00:00, ?it/s]"
      ]
     },
     "metadata": {},
     "output_type": "display_data"
    },
    {
     "name": "stderr",
     "output_type": "stream",
     "text": [
      "`Trainer.fit` stopped: `max_epochs=0` reached.\n"
     ]
    },
    {
     "data": {
      "application/vnd.jupyter.widget-view+json": {
       "model_id": "f3e9b5428c534393a161de90de56d7eb",
       "version_major": 2,
       "version_minor": 0
      },
      "text/plain": [
       "Testing: 0it [00:00, ?it/s]"
      ]
     },
     "metadata": {},
     "output_type": "display_data"
    },
    {
     "name": "stdout",
     "output_type": "stream",
     "text": [
      "────────────────────────────────────────────────────────────────────────────────────────────────────────────────────────\n",
      "       Test metric             DataLoader 0\n",
      "────────────────────────────────────────────────────────────────────────────────────────────────────────────────────────\n",
      "      test_acc_top1         0.5393000245094299\n",
      "        test_loss           1.6119410991668701\n",
      "────────────────────────────────────────────────────────────────────────────────────────────────────────────────────────\n"
     ]
    }
   ],
   "source": [
    "model.train_approx(dm, test=True)"
   ]
  },
  {
   "cell_type": "markdown",
   "metadata": {},
   "source": [
    "## Uniform approximation\n",
    "\n",
    "Finally, we can compare that to a uniform solution where the same approximate multiplier is used across all layers"
   ]
  },
  {
   "cell_type": "code",
   "execution_count": 14,
   "metadata": {},
   "outputs": [
    {
     "name": "stderr",
     "output_type": "stream",
     "text": [
      "GPU available: False, used: False\n",
      "TPU available: False, using: 0 TPU cores\n",
      "IPU available: False, using: 0 IPUs\n",
      "HPU available: False, using: 0 HPUs\n",
      "\n",
      "  | Name  | Type   | Params\n",
      "---------------------------------\n",
      "0 | model | LeNet5 | 61.9 K\n",
      "---------------------------------\n",
      "61.9 K    Trainable params\n",
      "0         Non-trainable params\n",
      "61.9 K    Total params\n",
      "0.248     Total estimated model params size (MB)\n"
     ]
    },
    {
     "data": {
      "application/vnd.jupyter.widget-view+json": {
       "model_id": "3c6479e5972d41408d735661ccff0b1c",
       "version_major": 2,
       "version_minor": 0
      },
      "text/plain": [
       "Sanity Checking: 0it [00:00, ?it/s]"
      ]
     },
     "metadata": {},
     "output_type": "display_data"
    },
    {
     "data": {
      "application/vnd.jupyter.widget-view+json": {
       "model_id": "215b7ead28bd45fd926e259717701d27",
       "version_major": 2,
       "version_minor": 0
      },
      "text/plain": [
       "Training: 0it [00:00, ?it/s]"
      ]
     },
     "metadata": {},
     "output_type": "display_data"
    },
    {
     "name": "stderr",
     "output_type": "stream",
     "text": [
      "/home/elias/agn-approx/.venv/lib/python3.8/site-packages/pytorch_lightning/trainer/call.py:48: UserWarning: Detected KeyboardInterrupt, attempting graceful shutdown...\n",
      "  rank_zero_warn(\"Detected KeyboardInterrupt, attempting graceful shutdown...\")\n"
     ]
    },
    {
     "data": {
      "application/vnd.jupyter.widget-view+json": {
       "model_id": "b434168798a945a3bbe2865e50bcffc2",
       "version_major": 2,
       "version_minor": 0
      },
      "text/plain": [
       "Testing: 0it [00:00, ?it/s]"
      ]
     },
     "metadata": {},
     "output_type": "display_data"
    },
    {
     "name": "stdout",
     "output_type": "stream",
     "text": [
      "────────────────────────────────────────────────────────────────────────────────────────────────────────────────────────\n",
      "       Test metric             DataLoader 0\n",
      "────────────────────────────────────────────────────────────────────────────────────────────────────────────────────────\n",
      "      test_acc_top1         0.9818000197410583\n",
      "        test_loss           0.06068200618028641\n",
      "────────────────────────────────────────────────────────────────────────────────────────────────────────────────────────\n"
     ]
    }
   ],
   "source": [
    "for n,m in model.noisy_modules:\n",
    "    m.approx_op.lut = evo.load_lut('mul8s_1L2L')\n",
    "\n",
    "model.train_approx(dm, test=True)"
   ]
  },
  {
   "cell_type": "markdown",
   "metadata": {},
   "source": [
    "Depending on your initialization, the uniform solution might sometimes end up having a slightly better accuracy compared to the heterogeneous solution. This is because MNIST is an extremely simple problem and this notebook does not used hyperparameters that are particularly well-tuned."
   ]
  }
 ],
 "metadata": {
  "kernelspec": {
   "display_name": "Python 3.8.10 ('.venv': poetry)",
   "language": "python",
   "name": "python3"
  },
  "language_info": {
   "codemirror_mode": {
    "name": "ipython",
    "version": 3
   },
   "file_extension": ".py",
   "mimetype": "text/x-python",
   "name": "python",
   "nbconvert_exporter": "python",
   "pygments_lexer": "ipython3",
   "version": "3.8.10"
  },
  "orig_nbformat": 4,
  "vscode": {
   "interpreter": {
    "hash": "bcfbc26219664d5aa2275c301081fce34ef3822c3b58c6fc90979e47294771c3"
   }
  }
 },
 "nbformat": 4,
 "nbformat_minor": 2
}
